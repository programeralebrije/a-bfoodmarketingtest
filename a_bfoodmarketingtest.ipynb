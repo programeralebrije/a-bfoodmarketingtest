{
  "cells": [
    {
      "cell_type": "code",
      "execution_count": 17,
      "metadata": {
        "id": "oSvhSYZ9q5Bp"
      },
      "outputs": [],
      "source": [
        "# Jovian Commit Essentials\n",
        "# Please retain and execute this cell without modifying the contents for `jovian.commit` to work\n",
        "!pip install jovian --upgrade -q\n",
        "import jovian\n",
        "jovian.set_project('a-bfoodmarketingtest')\n",
        "jovian.set_colab_id('1M1t4C8iGbRfYVXVA0Bcc5VskwY-tB9YX')"
      ]
    },
    {
      "cell_type": "markdown",
      "metadata": {
        "id": "1AHJD3IBq5Bt"
      },
      "source": [
        "# a-bfoodmarketingtest\n",
        "\n",
        "Use the \"Run\" button to execute the code."
      ]
    },
    {
      "cell_type": "code",
      "execution_count": 18,
      "metadata": {
        "id": "k4rVfUXSq5Bx"
      },
      "outputs": [],
      "source": [
        "!pip install jovian --upgrade --quiet"
      ]
    },
    {
      "cell_type": "code",
      "execution_count": 19,
      "metadata": {
        "id": "BGywDcGzq5Bz"
      },
      "outputs": [],
      "source": [
        "import jovian"
      ]
    },
    {
      "cell_type": "code",
      "execution_count": 20,
      "metadata": {
        "colab": {
          "base_uri": "https://localhost:8080/",
          "height": 87
        },
        "id": "u17OU2Gcq5Bz",
        "outputId": "64bb6f97-8b68-4b81-9276-c8bef61ccb52"
      },
      "outputs": [
        {
          "output_type": "stream",
          "name": "stdout",
          "text": [
            "[jovian] Detected Colab notebook...\u001b[0m\n",
            "[jovian] Uploading colab notebook to Jovian...\u001b[0m\n",
            "Committed successfully! https://jovian.ai/programeralebrije/a-bfoodmarketingtest\n"
          ]
        },
        {
          "output_type": "execute_result",
          "data": {
            "application/vnd.google.colaboratory.intrinsic+json": {
              "type": "string"
            },
            "text/plain": [
              "'https://jovian.ai/programeralebrije/a-bfoodmarketingtest'"
            ]
          },
          "metadata": {},
          "execution_count": 20
        }
      ],
      "source": [
        "# Execute this to save new versions of the notebook\n",
        "jovian.commit(project=\"a-bfoodmarketingtest\")"
      ]
    },
    {
      "cell_type": "code",
      "source": [
        "jovian.commit()"
      ],
      "metadata": {
        "colab": {
          "base_uri": "https://localhost:8080/",
          "height": 87
        },
        "id": "nGS6naYhu60b",
        "outputId": "45e8be6c-d775-43fd-83ed-c05e20a49fd3"
      },
      "execution_count": 21,
      "outputs": [
        {
          "output_type": "stream",
          "name": "stdout",
          "text": [
            "[jovian] Detected Colab notebook...\u001b[0m\n",
            "[jovian] Uploading colab notebook to Jovian...\u001b[0m\n",
            "Committed successfully! https://jovian.ai/programeralebrije/a-bfoodmarketingtest\n"
          ]
        },
        {
          "output_type": "execute_result",
          "data": {
            "application/vnd.google.colaboratory.intrinsic+json": {
              "type": "string"
            },
            "text/plain": [
              "'https://jovian.ai/programeralebrije/a-bfoodmarketingtest'"
            ]
          },
          "metadata": {},
          "execution_count": 21
        }
      ]
    },
    {
      "cell_type": "code",
      "source": [
        "!pip install numpy pandas jovian opendatasets scikit-learn xgboost --quiet\n"
      ],
      "metadata": {
        "id": "xybAUQ3Gu6tm"
      },
      "execution_count": 22,
      "outputs": []
    },
    {
      "cell_type": "code",
      "source": [
        "import opendatasets as od\n"
      ],
      "metadata": {
        "id": "WPItQhzau6i9"
      },
      "execution_count": 23,
      "outputs": []
    },
    {
      "cell_type": "code",
      "source": [
        "import matplotlib.pyplot as plt\n",
        "import seaborn as sns \n",
        "import scipy.stats as stats\n",
        "import statsmodels.api as sm\n",
        "import pandas as pd\n",
        "import rpy2\n",
        "import numpy as np\n",
        "import statsmodels.stats.api as sms\n",
        "from statsmodels.formula.api import ols\n",
        "from statsmodels.stats.multicomp import pairwise_tukeyhsd\n",
        "from scipy.stats import ttest_1samp, shapiro, levene, f_oneway, kruskal"
      ],
      "metadata": {
        "id": "17jEKaoPHLH0"
      },
      "execution_count": 45,
      "outputs": []
    },
    {
      "cell_type": "code",
      "source": [
        "%matplotlib inline"
      ],
      "metadata": {
        "id": "Mac8iUa4Oy9A"
      },
      "execution_count": 25,
      "outputs": []
    },
    {
      "cell_type": "code",
      "source": [
        "from rpy2.robjects import pandas2ri"
      ],
      "metadata": {
        "id": "E0-DvpYfPA0y"
      },
      "execution_count": 26,
      "outputs": []
    },
    {
      "cell_type": "code",
      "source": [
        "pandas2ri.activate()"
      ],
      "metadata": {
        "id": "FiAnhYFkPDBC"
      },
      "execution_count": 27,
      "outputs": []
    },
    {
      "cell_type": "code",
      "source": [
        "%load_ext rpy2.ipython"
      ],
      "metadata": {
        "id": "MbRYIHkMPOHE",
        "colab": {
          "base_uri": "https://localhost:8080/"
        },
        "outputId": "7526bb67-2fca-4e22-f7f0-060c99fbd18d"
      },
      "execution_count": 28,
      "outputs": [
        {
          "output_type": "stream",
          "name": "stdout",
          "text": [
            "The rpy2.ipython extension is already loaded. To reload it, use:\n",
            "  %reload_ext rpy2.ipython\n"
          ]
        }
      ]
    },
    {
      "cell_type": "code",
      "source": [
        "dataset_url = 'https://www.kaggle.com/chebotinaa/fast-food-marketing-campaign-ab-test'"
      ],
      "metadata": {
        "id": "yzTQ5thNxHrX"
      },
      "execution_count": 29,
      "outputs": []
    },
    {
      "cell_type": "code",
      "source": [
        "od.download(dataset_url)"
      ],
      "metadata": {
        "colab": {
          "base_uri": "https://localhost:8080/"
        },
        "id": "zjen0KmQ0ROr",
        "outputId": "98394c3f-e21d-439d-be11-6abd478e45c3"
      },
      "execution_count": 16,
      "outputs": [
        {
          "output_type": "stream",
          "name": "stdout",
          "text": [
            "Please provide your Kaggle credentials to download this dataset. Learn more: http://bit.ly/kaggle-creds\n",
            "Your Kaggle username: rubenlarrazolo\n",
            "Your Kaggle Key: ··········\n",
            "Downloading fast-food-marketing-campaign-ab-test.zip to ./fast-food-marketing-campaign-ab-test\n"
          ]
        },
        {
          "output_type": "stream",
          "name": "stderr",
          "text": [
            "100%|██████████| 3.31k/3.31k [00:00<00:00, 584kB/s]"
          ]
        },
        {
          "output_type": "stream",
          "name": "stdout",
          "text": [
            "\n"
          ]
        },
        {
          "output_type": "stream",
          "name": "stderr",
          "text": [
            "\n"
          ]
        }
      ]
    },
    {
      "cell_type": "code",
      "source": [
        "jovian.commit()\n"
      ],
      "metadata": {
        "colab": {
          "base_uri": "https://localhost:8080/",
          "height": 87
        },
        "id": "QxpUvfcA0RLu",
        "outputId": "71443b89-7f7d-4463-8a5c-3b42482e2936"
      },
      "execution_count": 30,
      "outputs": [
        {
          "output_type": "stream",
          "name": "stdout",
          "text": [
            "[jovian] Detected Colab notebook...\u001b[0m\n",
            "[jovian] Uploading colab notebook to Jovian...\u001b[0m\n",
            "Committed successfully! https://jovian.ai/programeralebrije/a-bfoodmarketingtest\n"
          ]
        },
        {
          "output_type": "execute_result",
          "data": {
            "application/vnd.google.colaboratory.intrinsic+json": {
              "type": "string"
            },
            "text/plain": [
              "'https://jovian.ai/programeralebrije/a-bfoodmarketingtest'"
            ]
          },
          "metadata": {},
          "execution_count": 30
        }
      ]
    },
    {
      "cell_type": "code",
      "source": [
        "pd.set_option('display.max_columns', None)\n",
        "pd.set_option('display.max_rows', 500)\n",
        "pd.set_option('display.float_format', lambda x: '%.2f' % x)"
      ],
      "metadata": {
        "id": "9WWDdwHk0RIq"
      },
      "execution_count": 31,
      "outputs": []
    },
    {
      "cell_type": "code",
      "source": [
        "data = pd.read_csv(\"/content/fast-food-marketing-campaign-ab-test/WA_Marketing-Campaign.csv\")\n",
        "df = data.copy()"
      ],
      "metadata": {
        "id": "s_wQYr7HH3hs"
      },
      "execution_count": 32,
      "outputs": []
    },
    {
      "cell_type": "markdown",
      "source": [
        "# Table of Content\n"
      ],
      "metadata": {
        "id": "xO-o038frM9w"
      }
    },
    {
      "cell_type": "markdown",
      "source": [
        "\n",
        "\n",
        "*   Itroducction \n",
        "*   Data Cleaning \n",
        "*   Store Information \n",
        "\n",
        "\n",
        "\n",
        "\n"
      ],
      "metadata": {
        "id": "RODLrQlrrYjR"
      }
    },
    {
      "cell_type": "markdown",
      "source": [
        " Introduction "
      ],
      "metadata": {
        "id": "PSL0r2_CrypK"
      }
    },
    {
      "cell_type": "markdown",
      "source": [
        "\n",
        "A fast food restaurant is planning to add a new item to their menu and is deciding on which promotional campaign to use to promote the new products. The series creates three campaigns and evaluates the effectiveness of each one by assigning one category to each store. We discovered that promotions 1 and 3 outperform promotions 2 and 3 across all market sizes.\n"
      ],
      "metadata": {
        "id": "GLJ-4U-4rhZq"
      }
    },
    {
      "cell_type": "code",
      "source": [
        ""
      ],
      "metadata": {
        "id": "I549cVV7rXIR"
      },
      "execution_count": null,
      "outputs": []
    },
    {
      "cell_type": "code",
      "source": [
        "def df_summary(df): \n",
        "    print(\"############### OBSERVATIONS-COLUMNS COUNTS ###############\")\n",
        "    print(\"\\n\")\n",
        "    print(df.shape)\n",
        "    print(\"############### INDEX ###############\")\n",
        "    print(\"\\n\")\n",
        "    print(df.index)\n",
        "    print(\"############### COLUMNS ###############\")\n",
        "    print(\"\\n\")\n",
        "    print(df.columns)\n",
        "    print(\"############### DATAFRAME INFORMATIONS ###############\")\n",
        "    print(\"\\n\")\n",
        "    print(df.info())\n",
        "    print(\"############### DATAFRAME INFORMATIONS ###############\")\n",
        "    print(\"\\n\")\n",
        "    print(df.describe().T)\n",
        "    print(\"\\n\")\n",
        "    print(df.head())\n",
        "    \n",
        "df_summary(df)"
      ],
      "metadata": {
        "colab": {
          "base_uri": "https://localhost:8080/"
        },
        "id": "MuIncfeNH4bZ",
        "outputId": "a8a3d0c8-f448-46f1-d18d-59286ba766ac"
      },
      "execution_count": 40,
      "outputs": [
        {
          "output_type": "stream",
          "name": "stdout",
          "text": [
            "############### OBSERVATIONS-COLUMNS COUNTS ###############\n",
            "\n",
            "\n",
            "(548, 7)\n",
            "############### INDEX ###############\n",
            "\n",
            "\n",
            "RangeIndex(start=0, stop=548, step=1)\n",
            "############### COLUMNS ###############\n",
            "\n",
            "\n",
            "Index(['MarketID', 'MarketSize', 'LocationID', 'AgeOfStore', 'Promotion',\n",
            "       'week', 'SalesInThousands'],\n",
            "      dtype='object')\n",
            "############### DATAFRAME INFORMATIONS ###############\n",
            "\n",
            "\n",
            "<class 'pandas.core.frame.DataFrame'>\n",
            "RangeIndex: 548 entries, 0 to 547\n",
            "Data columns (total 7 columns):\n",
            " #   Column            Non-Null Count  Dtype  \n",
            "---  ------            --------------  -----  \n",
            " 0   MarketID          548 non-null    int64  \n",
            " 1   MarketSize        548 non-null    object \n",
            " 2   LocationID        548 non-null    int64  \n",
            " 3   AgeOfStore        548 non-null    int64  \n",
            " 4   Promotion         548 non-null    int64  \n",
            " 5   week              548 non-null    int64  \n",
            " 6   SalesInThousands  548 non-null    float64\n",
            "dtypes: float64(1), int64(5), object(1)\n",
            "memory usage: 30.1+ KB\n",
            "None\n",
            "############### DATAFRAME INFORMATIONS ###############\n",
            "\n",
            "\n",
            "                  count   mean    std   min    25%    50%    75%    max\n",
            "MarketID         548.00   5.72   2.88  1.00   3.00   6.00   8.00  10.00\n",
            "LocationID       548.00 479.66 287.97  1.00 216.00 504.00 708.00 920.00\n",
            "AgeOfStore       548.00   8.50   6.64  1.00   4.00   7.00  12.00  28.00\n",
            "Promotion        548.00   2.03   0.81  1.00   1.00   2.00   3.00   3.00\n",
            "week             548.00   2.50   1.12  1.00   1.75   2.50   3.25   4.00\n",
            "SalesInThousands 548.00  53.47  16.76 17.34  42.55  50.20  60.48  99.65\n",
            "\n",
            "\n",
            "   MarketID MarketSize  LocationID  AgeOfStore  Promotion  week  \\\n",
            "0         1     Medium           1           4          3     1   \n",
            "1         1     Medium           1           4          3     2   \n",
            "2         1     Medium           1           4          3     3   \n",
            "3         1     Medium           1           4          3     4   \n",
            "4         1     Medium           2           5          2     1   \n",
            "\n",
            "   SalesInThousands  \n",
            "0             33.73  \n",
            "1             35.67  \n",
            "2             29.03  \n",
            "3             39.25  \n",
            "4             27.81  \n"
          ]
        }
      ]
    },
    {
      "cell_type": "code",
      "source": [
        "def missing_value_analysis(df):\n",
        "    print(\"Is there any missing value on the dataset?\")\n",
        "    print(df.isnull().values.any())\n",
        "    missing = df.isnull().values.any()\n",
        "\n",
        "    if (missing == True):\n",
        "        print(\"############### MISSING VALUE COUNTS BY VARIABLES ###############\")\n",
        "        print(df.isnull().sum())\n",
        "        print(\"############### TOTAL MISSING VALUE COUNTS ###############\")\n",
        "        print(df.isnull().sum().sum())\n",
        "    else:\n",
        "        pass\n",
        "\n",
        "missing_value_analysis(df)"
      ],
      "metadata": {
        "colab": {
          "base_uri": "https://localhost:8080/"
        },
        "id": "rZvG9KDkINGW",
        "outputId": "7568e7ab-a762-4966-f6b5-ede0c2c257f7"
      },
      "execution_count": 34,
      "outputs": [
        {
          "output_type": "stream",
          "name": "stdout",
          "text": [
            "Is there any missing value on the dataset?\n",
            "False\n"
          ]
        }
      ]
    },
    {
      "cell_type": "code",
      "source": [
        "def unique_counts(df, var):\n",
        "    return df[var].nunique()\n",
        "    \n",
        "print(\"####### UNIQUE VALUE COUNTS BY VARIABLES #######\", \"\\n\")\n",
        "for i in df.columns:\n",
        "    if (i == \"SalesInThousands\"):\n",
        "        continue\n",
        "    else:\n",
        "        print( i  + \" = \" + str(unique_counts(df, i)))"
      ],
      "metadata": {
        "colab": {
          "base_uri": "https://localhost:8080/"
        },
        "id": "trpiNyLOIXCL",
        "outputId": "58b18a7d-64d7-4350-db6c-75349e36653a"
      },
      "execution_count": 35,
      "outputs": [
        {
          "output_type": "stream",
          "name": "stdout",
          "text": [
            "####### UNIQUE VALUE COUNTS BY VARIABLES ####### \n",
            "\n",
            "MarketID = 10\n",
            "MarketSize = 3\n",
            "LocationID = 137\n",
            "AgeOfStore = 25\n",
            "Promotion = 3\n",
            "week = 4\n"
          ]
        }
      ]
    },
    {
      "cell_type": "code",
      "source": [
        "df[\"MarketSize\"].value_counts().plot(kind = \"bar\");"
      ],
      "metadata": {
        "colab": {
          "base_uri": "https://localhost:8080/",
          "height": 295
        },
        "id": "dZWByik8Igzb",
        "outputId": "bfe8f102-9325-4495-b282-65140f39e49b"
      },
      "execution_count": 36,
      "outputs": [
        {
          "output_type": "display_data",
          "data": {
            "image/png": "[encoded data removed]",
            "text/plain": [
              "<Figure size 432x288 with 1 Axes>"
            ]
          },
          "metadata": {
            "needs_background": "light"
          }
        }
      ]
    },
    {
      "cell_type": "code",
      "source": [
        "jovian.commit()"
      ],
      "metadata": {
        "colab": {
          "base_uri": "https://localhost:8080/",
          "height": 87
        },
        "id": "u-zgs1VkJ_Rx",
        "outputId": "890b3ca9-2138-4987-ff8b-d6acb368cac6"
      },
      "execution_count": 37,
      "outputs": [
        {
          "output_type": "stream",
          "name": "stdout",
          "text": [
            "[jovian] Detected Colab notebook...\u001b[0m\n",
            "[jovian] Uploading colab notebook to Jovian...\u001b[0m\n",
            "Committed successfully! https://jovian.ai/programeralebrije/a-bfoodmarketingtest\n"
          ]
        },
        {
          "output_type": "execute_result",
          "data": {
            "application/vnd.google.colaboratory.intrinsic+json": {
              "type": "string"
            },
            "text/plain": [
              "'https://jovian.ai/programeralebrije/a-bfoodmarketingtest'"
            ]
          },
          "metadata": {},
          "execution_count": 37
        }
      ]
    },
    {
      "cell_type": "code",
      "source": [
        "df.describe()"
      ],
      "metadata": {
        "id": "ic8nyxA_Qcsq",
        "colab": {
          "base_uri": "https://localhost:8080/",
          "height": 294
        },
        "outputId": "1c1b7d5c-9015-4d28-8832-bf2b5cf2eaf6"
      },
      "execution_count": 38,
      "outputs": [
        {
          "output_type": "execute_result",
          "data": {
            "text/html": [
              "\n",
              "  <div id=\"df-2f05e3aa-dcc3-4b2b-a2da-4b9734aec420\">\n",
              "    <div class=\"colab-df-container\">\n",
              "      <div>\n",
              "<style scoped>\n",
              "    .dataframe tbody tr th:only-of-type {\n",
              "        vertical-align: middle;\n",
              "    }\n",
              "\n",
              "    .dataframe tbody tr th {\n",
              "        vertical-align: top;\n",
              "    }\n",
              "\n",
              "    .dataframe thead th {\n",
              "        text-align: right;\n",
              "    }\n",
              "</style>\n",
              "<table border=\"1\" class=\"dataframe\">\n",
              "  <thead>\n",
              "    <tr style=\"text-align: right;\">\n",
              "      <th></th>\n",
              "      <th>MarketID</th>\n",
              "      <th>LocationID</th>\n",
              "      <th>AgeOfStore</th>\n",
              "      <th>Promotion</th>\n",
              "      <th>week</th>\n",
              "      <th>SalesInThousands</th>\n",
              "    </tr>\n",
              "  </thead>\n",
              "  <tbody>\n",
              "    <tr>\n",
              "      <th>count</th>\n",
              "      <td>548.00</td>\n",
              "      <td>548.00</td>\n",
              "      <td>548.00</td>\n",
              "      <td>548.00</td>\n",
              "      <td>548.00</td>\n",
              "      <td>548.00</td>\n",
              "    </tr>\n",
              "    <tr>\n",
              "      <th>mean</th>\n",
              "      <td>5.72</td>\n",
              "      <td>479.66</td>\n",
              "      <td>8.50</td>\n",
              "      <td>2.03</td>\n",
              "      <td>2.50</td>\n",
              "      <td>53.47</td>\n",
              "    </tr>\n",
              "    <tr>\n",
              "      <th>std</th>\n",
              "      <td>2.88</td>\n",
              "      <td>287.97</td>\n",
              "      <td>6.64</td>\n",
              "      <td>0.81</td>\n",
              "      <td>1.12</td>\n",
              "      <td>16.76</td>\n",
              "    </tr>\n",
              "    <tr>\n",
              "      <th>min</th>\n",
              "      <td>1.00</td>\n",
              "      <td>1.00</td>\n",
              "      <td>1.00</td>\n",
              "      <td>1.00</td>\n",
              "      <td>1.00</td>\n",
              "      <td>17.34</td>\n",
              "    </tr>\n",
              "    <tr>\n",
              "      <th>25%</th>\n",
              "      <td>3.00</td>\n",
              "      <td>216.00</td>\n",
              "      <td>4.00</td>\n",
              "      <td>1.00</td>\n",
              "      <td>1.75</td>\n",
              "      <td>42.55</td>\n",
              "    </tr>\n",
              "    <tr>\n",
              "      <th>50%</th>\n",
              "      <td>6.00</td>\n",
              "      <td>504.00</td>\n",
              "      <td>7.00</td>\n",
              "      <td>2.00</td>\n",
              "      <td>2.50</td>\n",
              "      <td>50.20</td>\n",
              "    </tr>\n",
              "    <tr>\n",
              "      <th>75%</th>\n",
              "      <td>8.00</td>\n",
              "      <td>708.00</td>\n",
              "      <td>12.00</td>\n",
              "      <td>3.00</td>\n",
              "      <td>3.25</td>\n",
              "      <td>60.48</td>\n",
              "    </tr>\n",
              "    <tr>\n",
              "      <th>max</th>\n",
              "      <td>10.00</td>\n",
              "      <td>920.00</td>\n",
              "      <td>28.00</td>\n",
              "      <td>3.00</td>\n",
              "      <td>4.00</td>\n",
              "      <td>99.65</td>\n",
              "    </tr>\n",
              "  </tbody>\n",
              "</table>\n",
              "</div>\n",
              "      <button class=\"colab-df-convert\" onclick=\"convertToInteractive('df-2f05e3aa-dcc3-4b2b-a2da-4b9734aec420')\"\n",
              "              title=\"Convert this dataframe to an interactive table.\"\n",
              "              style=\"display:none;\">\n",
              "        \n",
              "  <svg xmlns=\"http://www.w3.org/2000/svg\" height=\"24px\"viewBox=\"0 0 24 24\"\n",
              "       width=\"24px\">\n",
              "    <path d=\"M0 0h24v24H0V0z\" fill=\"none\"/>\n",
              "    <path d=\"M18.56 5.44l.94 2.06.94-2.06 2.06-.94-2.06-.94-.94-2.06-.94 2.06-2.06.94zm-11 1L8.5 8.5l.94-2.06 2.06-.94-2.06-.94L8.5 2.5l-.94 2.06-2.06.94zm10 10l.94 2.06.94-2.06 2.06-.94-2.06-.94-.94-2.06-.94 2.06-2.06.94z\"/><path d=\"M17.41 7.96l-1.37-1.37c-.4-.4-.92-.59-1.43-.59-.52 0-1.04.2-1.43.59L10.3 9.45l-7.72 7.72c-.78.78-.78 2.05 0 2.83L4 21.41c.39.39.9.59 1.41.59.51 0 1.02-.2 1.41-.59l7.78-7.78 2.81-2.81c.8-.78.8-2.07 0-2.86zM5.41 20L4 18.59l7.72-7.72 1.47 1.35L5.41 20z\"/>\n",
              "  </svg>\n",
              "      </button>\n",
              "      \n",
              "  <style>\n",
              "    .colab-df-container {\n",
              "      display:flex;\n",
              "      flex-wrap:wrap;\n",
              "      gap: 12px;\n",
              "    }\n",
              "\n",
              "    .colab-df-convert {\n",
              "      background-color: #E8F0FE;\n",
              "      border: none;\n",
              "      border-radius: 50%;\n",
              "      cursor: pointer;\n",
              "      display: none;\n",
              "      fill: #1967D2;\n",
              "      height: 32px;\n",
              "      padding: 0 0 0 0;\n",
              "      width: 32px;\n",
              "    }\n",
              "\n",
              "    .colab-df-convert:hover {\n",
              "      background-color: #E2EBFA;\n",
              "      box-shadow: 0px 1px 2px rgba(60, 64, 67, 0.3), 0px 1px 3px 1px rgba(60, 64, 67, 0.15);\n",
              "      fill: #174EA6;\n",
              "    }\n",
              "\n",
              "    [theme=dark] .colab-df-convert {\n",
              "      background-color: #3B4455;\n",
              "      fill: #D2E3FC;\n",
              "    }\n",
              "\n",
              "    [theme=dark] .colab-df-convert:hover {\n",
              "      background-color: #434B5C;\n",
              "      box-shadow: 0px 1px 3px 1px rgba(0, 0, 0, 0.15);\n",
              "      filter: drop-shadow(0px 1px 2px rgba(0, 0, 0, 0.3));\n",
              "      fill: #FFFFFF;\n",
              "    }\n",
              "  </style>\n",
              "\n",
              "      <script>\n",
              "        const buttonEl =\n",
              "          document.querySelector('#df-2f05e3aa-dcc3-4b2b-a2da-4b9734aec420 button.colab-df-convert');\n",
              "        buttonEl.style.display =\n",
              "          google.colab.kernel.accessAllowed ? 'block' : 'none';\n",
              "\n",
              "        async function convertToInteractive(key) {\n",
              "          const element = document.querySelector('#df-2f05e3aa-dcc3-4b2b-a2da-4b9734aec420');\n",
              "          const dataTable =\n",
              "            await google.colab.kernel.invokeFunction('convertToInteractive',\n",
              "                                                     [key], {});\n",
              "          if (!dataTable) return;\n",
              "\n",
              "          const docLinkHtml = 'Like what you see? Visit the ' +\n",
              "            '<a target=\"_blank\" href=https://colab.research.google.com/notebooks/data_table.ipynb>data table notebook</a>'\n",
              "            + ' to learn more about interactive tables.';\n",
              "          element.innerHTML = '';\n",
              "          dataTable['output_type'] = 'display_data';\n",
              "          await google.colab.output.renderOutput(dataTable, element);\n",
              "          const docLink = document.createElement('div');\n",
              "          docLink.innerHTML = docLinkHtml;\n",
              "          element.appendChild(docLink);\n",
              "        }\n",
              "      </script>\n",
              "    </div>\n",
              "  </div>\n",
              "  "
            ],
            "text/plain": [
              "       MarketID  LocationID  AgeOfStore  Promotion   week  SalesInThousands\n",
              "count    548.00      548.00      548.00     548.00 548.00            548.00\n",
              "mean       5.72      479.66        8.50       2.03   2.50             53.47\n",
              "std        2.88      287.97        6.64       0.81   1.12             16.76\n",
              "min        1.00        1.00        1.00       1.00   1.00             17.34\n",
              "25%        3.00      216.00        4.00       1.00   1.75             42.55\n",
              "50%        6.00      504.00        7.00       2.00   2.50             50.20\n",
              "75%        8.00      708.00       12.00       3.00   3.25             60.48\n",
              "max       10.00      920.00       28.00       3.00   4.00             99.65"
            ]
          },
          "metadata": {},
          "execution_count": 38
        }
      ]
    },
    {
      "cell_type": "code",
      "source": [
        "df.drop_duplicates()"
      ],
      "metadata": {
        "colab": {
          "base_uri": "https://localhost:8080/",
          "height": 655
        },
        "id": "YzXrf8BEyCfc",
        "outputId": "bde738b9-4d6f-4d16-823a-0906f1b28386"
      },
      "execution_count": 41,
      "outputs": [
        {
          "output_type": "execute_result",
          "data": {
            "text/html": [
              "\n",
              "  <div id=\"df-9b9d9679-0ee2-4a20-ac81-9753bf18da87\">\n",
              "    <div class=\"colab-df-container\">\n",
              "      <div>\n",
              "<style scoped>\n",
              "    .dataframe tbody tr th:only-of-type {\n",
              "        vertical-align: middle;\n",
              "    }\n",
              "\n",
              "    .dataframe tbody tr th {\n",
              "        vertical-align: top;\n",
              "    }\n",
              "\n",
              "    .dataframe thead th {\n",
              "        text-align: right;\n",
              "    }\n",
              "</style>\n",
              "<table border=\"1\" class=\"dataframe\">\n",
              "  <thead>\n",
              "    <tr style=\"text-align: right;\">\n",
              "      <th></th>\n",
              "      <th>MarketID</th>\n",
              "      <th>MarketSize</th>\n",
              "      <th>LocationID</th>\n",
              "      <th>AgeOfStore</th>\n",
              "      <th>Promotion</th>\n",
              "      <th>week</th>\n",
              "      <th>SalesInThousands</th>\n",
              "    </tr>\n",
              "  </thead>\n",
              "  <tbody>\n",
              "    <tr>\n",
              "      <th>0</th>\n",
              "      <td>1</td>\n",
              "      <td>Medium</td>\n",
              "      <td>1</td>\n",
              "      <td>4</td>\n",
              "      <td>3</td>\n",
              "      <td>1</td>\n",
              "      <td>33.73</td>\n",
              "    </tr>\n",
              "    <tr>\n",
              "      <th>1</th>\n",
              "      <td>1</td>\n",
              "      <td>Medium</td>\n",
              "      <td>1</td>\n",
              "      <td>4</td>\n",
              "      <td>3</td>\n",
              "      <td>2</td>\n",
              "      <td>35.67</td>\n",
              "    </tr>\n",
              "    <tr>\n",
              "      <th>2</th>\n",
              "      <td>1</td>\n",
              "      <td>Medium</td>\n",
              "      <td>1</td>\n",
              "      <td>4</td>\n",
              "      <td>3</td>\n",
              "      <td>3</td>\n",
              "      <td>29.03</td>\n",
              "    </tr>\n",
              "    <tr>\n",
              "      <th>3</th>\n",
              "      <td>1</td>\n",
              "      <td>Medium</td>\n",
              "      <td>1</td>\n",
              "      <td>4</td>\n",
              "      <td>3</td>\n",
              "      <td>4</td>\n",
              "      <td>39.25</td>\n",
              "    </tr>\n",
              "    <tr>\n",
              "      <th>4</th>\n",
              "      <td>1</td>\n",
              "      <td>Medium</td>\n",
              "      <td>2</td>\n",
              "      <td>5</td>\n",
              "      <td>2</td>\n",
              "      <td>1</td>\n",
              "      <td>27.81</td>\n",
              "    </tr>\n",
              "    <tr>\n",
              "      <th>...</th>\n",
              "      <td>...</td>\n",
              "      <td>...</td>\n",
              "      <td>...</td>\n",
              "      <td>...</td>\n",
              "      <td>...</td>\n",
              "      <td>...</td>\n",
              "      <td>...</td>\n",
              "    </tr>\n",
              "    <tr>\n",
              "      <th>543</th>\n",
              "      <td>10</td>\n",
              "      <td>Large</td>\n",
              "      <td>919</td>\n",
              "      <td>2</td>\n",
              "      <td>1</td>\n",
              "      <td>4</td>\n",
              "      <td>64.34</td>\n",
              "    </tr>\n",
              "    <tr>\n",
              "      <th>544</th>\n",
              "      <td>10</td>\n",
              "      <td>Large</td>\n",
              "      <td>920</td>\n",
              "      <td>14</td>\n",
              "      <td>2</td>\n",
              "      <td>1</td>\n",
              "      <td>50.20</td>\n",
              "    </tr>\n",
              "    <tr>\n",
              "      <th>545</th>\n",
              "      <td>10</td>\n",
              "      <td>Large</td>\n",
              "      <td>920</td>\n",
              "      <td>14</td>\n",
              "      <td>2</td>\n",
              "      <td>2</td>\n",
              "      <td>45.75</td>\n",
              "    </tr>\n",
              "    <tr>\n",
              "      <th>546</th>\n",
              "      <td>10</td>\n",
              "      <td>Large</td>\n",
              "      <td>920</td>\n",
              "      <td>14</td>\n",
              "      <td>2</td>\n",
              "      <td>3</td>\n",
              "      <td>44.29</td>\n",
              "    </tr>\n",
              "    <tr>\n",
              "      <th>547</th>\n",
              "      <td>10</td>\n",
              "      <td>Large</td>\n",
              "      <td>920</td>\n",
              "      <td>14</td>\n",
              "      <td>2</td>\n",
              "      <td>4</td>\n",
              "      <td>49.41</td>\n",
              "    </tr>\n",
              "  </tbody>\n",
              "</table>\n",
              "<p>548 rows × 7 columns</p>\n",
              "</div>\n",
              "      <button class=\"colab-df-convert\" onclick=\"convertToInteractive('df-9b9d9679-0ee2-4a20-ac81-9753bf18da87')\"\n",
              "              title=\"Convert this dataframe to an interactive table.\"\n",
              "              style=\"display:none;\">\n",
              "        \n",
              "  <svg xmlns=\"http://www.w3.org/2000/svg\" height=\"24px\"viewBox=\"0 0 24 24\"\n",
              "       width=\"24px\">\n",
              "    <path d=\"M0 0h24v24H0V0z\" fill=\"none\"/>\n",
              "    <path d=\"M18.56 5.44l.94 2.06.94-2.06 2.06-.94-2.06-.94-.94-2.06-.94 2.06-2.06.94zm-11 1L8.5 8.5l.94-2.06 2.06-.94-2.06-.94L8.5 2.5l-.94 2.06-2.06.94zm10 10l.94 2.06.94-2.06 2.06-.94-2.06-.94-.94-2.06-.94 2.06-2.06.94z\"/><path d=\"M17.41 7.96l-1.37-1.37c-.4-.4-.92-.59-1.43-.59-.52 0-1.04.2-1.43.59L10.3 9.45l-7.72 7.72c-.78.78-.78 2.05 0 2.83L4 21.41c.39.39.9.59 1.41.59.51 0 1.02-.2 1.41-.59l7.78-7.78 2.81-2.81c.8-.78.8-2.07 0-2.86zM5.41 20L4 18.59l7.72-7.72 1.47 1.35L5.41 20z\"/>\n",
              "  </svg>\n",
              "      </button>\n",
              "      \n",
              "  <style>\n",
              "    .colab-df-container {\n",
              "      display:flex;\n",
              "      flex-wrap:wrap;\n",
              "      gap: 12px;\n",
              "    }\n",
              "\n",
              "    .colab-df-convert {\n",
              "      background-color: #E8F0FE;\n",
              "      border: none;\n",
              "      border-radius: 50%;\n",
              "      cursor: pointer;\n",
              "      display: none;\n",
              "      fill: #1967D2;\n",
              "      height: 32px;\n",
              "      padding: 0 0 0 0;\n",
              "      width: 32px;\n",
              "    }\n",
              "\n",
              "    .colab-df-convert:hover {\n",
              "      background-color: #E2EBFA;\n",
              "      box-shadow: 0px 1px 2px rgba(60, 64, 67, 0.3), 0px 1px 3px 1px rgba(60, 64, 67, 0.15);\n",
              "      fill: #174EA6;\n",
              "    }\n",
              "\n",
              "    [theme=dark] .colab-df-convert {\n",
              "      background-color: #3B4455;\n",
              "      fill: #D2E3FC;\n",
              "    }\n",
              "\n",
              "    [theme=dark] .colab-df-convert:hover {\n",
              "      background-color: #434B5C;\n",
              "      box-shadow: 0px 1px 3px 1px rgba(0, 0, 0, 0.15);\n",
              "      filter: drop-shadow(0px 1px 2px rgba(0, 0, 0, 0.3));\n",
              "      fill: #FFFFFF;\n",
              "    }\n",
              "  </style>\n",
              "\n",
              "      <script>\n",
              "        const buttonEl =\n",
              "          document.querySelector('#df-9b9d9679-0ee2-4a20-ac81-9753bf18da87 button.colab-df-convert');\n",
              "        buttonEl.style.display =\n",
              "          google.colab.kernel.accessAllowed ? 'block' : 'none';\n",
              "\n",
              "        async function convertToInteractive(key) {\n",
              "          const element = document.querySelector('#df-9b9d9679-0ee2-4a20-ac81-9753bf18da87');\n",
              "          const dataTable =\n",
              "            await google.colab.kernel.invokeFunction('convertToInteractive',\n",
              "                                                     [key], {});\n",
              "          if (!dataTable) return;\n",
              "\n",
              "          const docLinkHtml = 'Like what you see? Visit the ' +\n",
              "            '<a target=\"_blank\" href=https://colab.research.google.com/notebooks/data_table.ipynb>data table notebook</a>'\n",
              "            + ' to learn more about interactive tables.';\n",
              "          element.innerHTML = '';\n",
              "          dataTable['output_type'] = 'display_data';\n",
              "          await google.colab.output.renderOutput(dataTable, element);\n",
              "          const docLink = document.createElement('div');\n",
              "          docLink.innerHTML = docLinkHtml;\n",
              "          element.appendChild(docLink);\n",
              "        }\n",
              "      </script>\n",
              "    </div>\n",
              "  </div>\n",
              "  "
            ],
            "text/plain": [
              "     MarketID MarketSize  LocationID  AgeOfStore  Promotion  week  \\\n",
              "0           1     Medium           1           4          3     1   \n",
              "1           1     Medium           1           4          3     2   \n",
              "2           1     Medium           1           4          3     3   \n",
              "3           1     Medium           1           4          3     4   \n",
              "4           1     Medium           2           5          2     1   \n",
              "..        ...        ...         ...         ...        ...   ...   \n",
              "543        10      Large         919           2          1     4   \n",
              "544        10      Large         920          14          2     1   \n",
              "545        10      Large         920          14          2     2   \n",
              "546        10      Large         920          14          2     3   \n",
              "547        10      Large         920          14          2     4   \n",
              "\n",
              "     SalesInThousands  \n",
              "0               33.73  \n",
              "1               35.67  \n",
              "2               29.03  \n",
              "3               39.25  \n",
              "4               27.81  \n",
              "..                ...  \n",
              "543             64.34  \n",
              "544             50.20  \n",
              "545             45.75  \n",
              "546             44.29  \n",
              "547             49.41  \n",
              "\n",
              "[548 rows x 7 columns]"
            ]
          },
          "metadata": {},
          "execution_count": 41
        }
      ]
    },
    {
      "cell_type": "code",
      "source": [
        "sns.set_theme()\n",
        "plt.figure(figsize=(6,6))\n",
        "pie_labels = ['Promotion 1', 'Promotion 2', 'Promotion 3']\n",
        "plt.pie(df.groupby(['Promotion']).size().to_list(), \n",
        "        labels=pie_labels, autopct='%1.1f%%',textprops={'fontsize': 12})\n",
        "plt.title('Distribution of Promotions', fontsize=14)\n",
        "plt.show()"
      ],
      "metadata": {
        "colab": {
          "base_uri": "https://localhost:8080/",
          "height": 374
        },
        "id": "evuGUGVbyDL7",
        "outputId": "733c0ae8-9d40-4bf2-c96c-ff199cee0f2b"
      },
      "execution_count": 46,
      "outputs": [
        {
          "output_type": "display_data",
          "data": {
            "image/png": "[encoded data removed]",
            "text/plain": [
              "<Figure size 432x432 with 1 Axes>"
            ]
          },
          "metadata": {}
        }
      ]
    },
    {
      "cell_type": "code",
      "source": [
        "# Explore the promotion with different market sizes\n",
        "df_bar = df.groupby(['Promotion','MarketSize']).size().to_frame().reset_index()\n",
        "df_bar.rename({0:'NumOfStore'}, axis=1, inplace=True)\n",
        "\n",
        "sns.set_theme()\n",
        "plt.figure(figsize=(6,6))\n",
        "ax = sns.barplot(x='MarketSize', y='NumOfStore',hue='Promotion', \n",
        "                 data=df_bar, hue_order=[1,2,3], palette='tab10', order=['Small', 'Medium','Large'])\n",
        "# ax.set(xlabel='Promotion Type', ylabel='Number of Stores', fontsize=18)\n",
        "plt.xlabel('Market Size', fontsize=14)\n",
        "plt.ylabel('Number of Promotions', fontsize=14)\n",
        "plt.legend(title='Promotion')\n",
        "plt.title('Number of Promotions by Market Sizes', fontsize=14)\n",
        "plt.show()"
      ],
      "metadata": {
        "colab": {
          "base_uri": "https://localhost:8080/",
          "height": 412
        },
        "id": "jCZECa4jyuW2",
        "outputId": "8c75fd3e-42db-4c11-8329-1ac15b3abb81"
      },
      "execution_count": 47,
      "outputs": [
        {
          "output_type": "display_data",
          "data": {
            "image/png": "[encoded data removed]",
            "text/plain": [
              "<Figure size 432x432 with 1 Axes>"
            ]
          },
          "metadata": {}
        }
      ]
    },
    {
      "cell_type": "code",
      "source": [
        "# Explore the sales with promotion and market sizes\n",
        "fig= plt.figure(figsize=(6,6))\n",
        "# ax = sns.displot(x=\"SalesInThousands\", data=df, hue='MarketSize',\n",
        "#                  col='Promotion', kind='kde', col_order=[1,2,3], hue_order=['Small','Medium','Large'])\n",
        "\n",
        "ax = sns.boxplot(y=\"SalesInThousands\", data=df, x='Promotion', \n",
        "                 order =[1,2,3])\n",
        "ax.set_ylabel('Sales (in thousands)')\n",
        "ax.set_xlabel('Promotions')\n",
        "ax.set_title('Revenue of Different Promotions', fontsize=14)\n",
        "plt.show()"
      ],
      "metadata": {
        "colab": {
          "base_uri": "https://localhost:8080/",
          "height": 411
        },
        "id": "qxC5JCKdzSoJ",
        "outputId": "05956d81-4b6b-4caf-a259-f6676bb40a61"
      },
      "execution_count": 49,
      "outputs": [
        {
          "output_type": "display_data",
          "data": {
            "image/png": "[encoded data removed]",
            "text/plain": [
              "<Figure size 432x432 with 1 Axes>"
            ]
          },
          "metadata": {}
        }
      ]
    },
    {
      "cell_type": "code",
      "source": [
        "df.groupby('Promotion')['SalesInThousands'].mean()"
      ],
      "metadata": {
        "colab": {
          "base_uri": "https://localhost:8080/"
        },
        "id": "0nQXAB6lzYj9",
        "outputId": "dde8f3bb-f675-4224-cdb0-26289c6164c6"
      },
      "execution_count": 51,
      "outputs": [
        {
          "output_type": "execute_result",
          "data": {
            "text/plain": [
              "Promotion\n",
              "1   58.10\n",
              "2   47.33\n",
              "3   55.36\n",
              "Name: SalesInThousands, dtype: float64"
            ]
          },
          "metadata": {},
          "execution_count": 51
        }
      ]
    },
    {
      "cell_type": "code",
      "source": [
        "p1_sale = df[df['Promotion'] == 1]['SalesInThousands']\n",
        "p2_sale = df[df['Promotion'] == 2]['SalesInThousands']\n",
        "p3_sale = df[df['Promotion'] == 3]['SalesInThousands']\n"
      ],
      "metadata": {
        "id": "pf4lsvshzfDm"
      },
      "execution_count": 52,
      "outputs": []
    },
    {
      "cell_type": "code",
      "source": [
        "stats.f_oneway(p1_sale, p2_sale, p3_sale)"
      ],
      "metadata": {
        "colab": {
          "base_uri": "https://localhost:8080/"
        },
        "id": "3YupI-4IziVh",
        "outputId": "6a198e21-2fd3-4c33-8cc4-56fdfd1122a7"
      },
      "execution_count": 53,
      "outputs": [
        {
          "output_type": "execute_result",
          "data": {
            "text/plain": [
              "F_onewayResult(statistic=21.953485793080677, pvalue=6.765849261408714e-10)"
            ]
          },
          "metadata": {},
          "execution_count": 53
        }
      ]
    },
    {
      "cell_type": "code",
      "source": [
        "tukey = pairwise_tukeyhsd(endog=df['SalesInThousands'],     \n",
        "                          groups=df['Promotion'],   \n",
        "                          alpha=0.05)          \n",
        "\n",
        "tukey.plot_simultaneous()    \n",
        "# plt.vlines(x=49.57,ymin=-0.5,ymax=4.5, color=\"red\")\n",
        "plt.title(\"Tukey post hoc test for three types of promotion in all market sizes\")\n",
        "tukey.summary()   "
      ],
      "metadata": {
        "colab": {
          "base_uri": "https://localhost:8080/",
          "height": 498
        },
        "id": "eze8S7ibzlTA",
        "outputId": "f0767fd0-4d26-40e2-d488-f2426e6564b6"
      },
      "execution_count": 54,
      "outputs": [
        {
          "output_type": "execute_result",
          "data": {
            "text/html": [
              "<table class=\"simpletable\">\n",
              "<caption>Multiple Comparison of Means - Tukey HSD, FWER=0.05</caption>\n",
              "<tr>\n",
              "  <th>group1</th> <th>group2</th> <th>meandiff</th>  <th>p-adj</th>  <th>lower</th>   <th>upper</th>  <th>reject</th>\n",
              "</tr>\n",
              "<tr>\n",
              "     <td>1</td>      <td>2</td>   <td>-10.7696</td>  <td>0.001</td> <td>-14.774</td> <td>-6.7652</td>  <td>True</td> \n",
              "</tr>\n",
              "<tr>\n",
              "     <td>1</td>      <td>3</td>    <td>-2.7345</td> <td>0.2447</td> <td>-6.7389</td> <td>1.2698</td>   <td>False</td>\n",
              "</tr>\n",
              "<tr>\n",
              "     <td>2</td>      <td>3</td>    <td>8.0351</td>   <td>0.001</td> <td>4.1207</td>  <td>11.9494</td>  <td>True</td> \n",
              "</tr>\n",
              "</table>"
            ],
            "text/plain": [
              "<class 'statsmodels.iolib.table.SimpleTable'>"
            ]
          },
          "metadata": {},
          "execution_count": 54
        },
        {
          "output_type": "display_data",
          "data": {
            "image/png": "[encoded data removed]",
            "text/plain": [
              "<Figure size 720x432 with 1 Axes>"
            ]
          },
          "metadata": {}
        }
      ]
    },
    {
      "cell_type": "code",
      "source": [
        "# Data preparation\n",
        "df['market-promotion'] = df['MarketSize'].astype(str) + '-' + df['Promotion'].astype(str)\n",
        "df.head(3)"
      ],
      "metadata": {
        "colab": {
          "base_uri": "https://localhost:8080/",
          "height": 187
        },
        "id": "t5v-yDNnzwDZ",
        "outputId": "f51e5022-b1cb-4278-8ed7-9aea4fd4c08f"
      },
      "execution_count": 55,
      "outputs": [
        {
          "output_type": "execute_result",
          "data": {
            "text/html": [
              "\n",
              "  <div id=\"df-3e71f8db-7a5e-42ac-8f90-6e6434d762c1\">\n",
              "    <div class=\"colab-df-container\">\n",
              "      <div>\n",
              "<style scoped>\n",
              "    .dataframe tbody tr th:only-of-type {\n",
              "        vertical-align: middle;\n",
              "    }\n",
              "\n",
              "    .dataframe tbody tr th {\n",
              "        vertical-align: top;\n",
              "    }\n",
              "\n",
              "    .dataframe thead th {\n",
              "        text-align: right;\n",
              "    }\n",
              "</style>\n",
              "<table border=\"1\" class=\"dataframe\">\n",
              "  <thead>\n",
              "    <tr style=\"text-align: right;\">\n",
              "      <th></th>\n",
              "      <th>MarketID</th>\n",
              "      <th>MarketSize</th>\n",
              "      <th>LocationID</th>\n",
              "      <th>AgeOfStore</th>\n",
              "      <th>Promotion</th>\n",
              "      <th>week</th>\n",
              "      <th>SalesInThousands</th>\n",
              "      <th>market-promotion</th>\n",
              "    </tr>\n",
              "  </thead>\n",
              "  <tbody>\n",
              "    <tr>\n",
              "      <th>0</th>\n",
              "      <td>1</td>\n",
              "      <td>Medium</td>\n",
              "      <td>1</td>\n",
              "      <td>4</td>\n",
              "      <td>3</td>\n",
              "      <td>1</td>\n",
              "      <td>33.73</td>\n",
              "      <td>Medium-3</td>\n",
              "    </tr>\n",
              "    <tr>\n",
              "      <th>1</th>\n",
              "      <td>1</td>\n",
              "      <td>Medium</td>\n",
              "      <td>1</td>\n",
              "      <td>4</td>\n",
              "      <td>3</td>\n",
              "      <td>2</td>\n",
              "      <td>35.67</td>\n",
              "      <td>Medium-3</td>\n",
              "    </tr>\n",
              "    <tr>\n",
              "      <th>2</th>\n",
              "      <td>1</td>\n",
              "      <td>Medium</td>\n",
              "      <td>1</td>\n",
              "      <td>4</td>\n",
              "      <td>3</td>\n",
              "      <td>3</td>\n",
              "      <td>29.03</td>\n",
              "      <td>Medium-3</td>\n",
              "    </tr>\n",
              "  </tbody>\n",
              "</table>\n",
              "</div>\n",
              "      <button class=\"colab-df-convert\" onclick=\"convertToInteractive('df-3e71f8db-7a5e-42ac-8f90-6e6434d762c1')\"\n",
              "              title=\"Convert this dataframe to an interactive table.\"\n",
              "              style=\"display:none;\">\n",
              "        \n",
              "  <svg xmlns=\"http://www.w3.org/2000/svg\" height=\"24px\"viewBox=\"0 0 24 24\"\n",
              "       width=\"24px\">\n",
              "    <path d=\"M0 0h24v24H0V0z\" fill=\"none\"/>\n",
              "    <path d=\"M18.56 5.44l.94 2.06.94-2.06 2.06-.94-2.06-.94-.94-2.06-.94 2.06-2.06.94zm-11 1L8.5 8.5l.94-2.06 2.06-.94-2.06-.94L8.5 2.5l-.94 2.06-2.06.94zm10 10l.94 2.06.94-2.06 2.06-.94-2.06-.94-.94-2.06-.94 2.06-2.06.94z\"/><path d=\"M17.41 7.96l-1.37-1.37c-.4-.4-.92-.59-1.43-.59-.52 0-1.04.2-1.43.59L10.3 9.45l-7.72 7.72c-.78.78-.78 2.05 0 2.83L4 21.41c.39.39.9.59 1.41.59.51 0 1.02-.2 1.41-.59l7.78-7.78 2.81-2.81c.8-.78.8-2.07 0-2.86zM5.41 20L4 18.59l7.72-7.72 1.47 1.35L5.41 20z\"/>\n",
              "  </svg>\n",
              "      </button>\n",
              "      \n",
              "  <style>\n",
              "    .colab-df-container {\n",
              "      display:flex;\n",
              "      flex-wrap:wrap;\n",
              "      gap: 12px;\n",
              "    }\n",
              "\n",
              "    .colab-df-convert {\n",
              "      background-color: #E8F0FE;\n",
              "      border: none;\n",
              "      border-radius: 50%;\n",
              "      cursor: pointer;\n",
              "      display: none;\n",
              "      fill: #1967D2;\n",
              "      height: 32px;\n",
              "      padding: 0 0 0 0;\n",
              "      width: 32px;\n",
              "    }\n",
              "\n",
              "    .colab-df-convert:hover {\n",
              "      background-color: #E2EBFA;\n",
              "      box-shadow: 0px 1px 2px rgba(60, 64, 67, 0.3), 0px 1px 3px 1px rgba(60, 64, 67, 0.15);\n",
              "      fill: #174EA6;\n",
              "    }\n",
              "\n",
              "    [theme=dark] .colab-df-convert {\n",
              "      background-color: #3B4455;\n",
              "      fill: #D2E3FC;\n",
              "    }\n",
              "\n",
              "    [theme=dark] .colab-df-convert:hover {\n",
              "      background-color: #434B5C;\n",
              "      box-shadow: 0px 1px 3px 1px rgba(0, 0, 0, 0.15);\n",
              "      filter: drop-shadow(0px 1px 2px rgba(0, 0, 0, 0.3));\n",
              "      fill: #FFFFFF;\n",
              "    }\n",
              "  </style>\n",
              "\n",
              "      <script>\n",
              "        const buttonEl =\n",
              "          document.querySelector('#df-3e71f8db-7a5e-42ac-8f90-6e6434d762c1 button.colab-df-convert');\n",
              "        buttonEl.style.display =\n",
              "          google.colab.kernel.accessAllowed ? 'block' : 'none';\n",
              "\n",
              "        async function convertToInteractive(key) {\n",
              "          const element = document.querySelector('#df-3e71f8db-7a5e-42ac-8f90-6e6434d762c1');\n",
              "          const dataTable =\n",
              "            await google.colab.kernel.invokeFunction('convertToInteractive',\n",
              "                                                     [key], {});\n",
              "          if (!dataTable) return;\n",
              "\n",
              "          const docLinkHtml = 'Like what you see? Visit the ' +\n",
              "            '<a target=\"_blank\" href=https://colab.research.google.com/notebooks/data_table.ipynb>data table notebook</a>'\n",
              "            + ' to learn more about interactive tables.';\n",
              "          element.innerHTML = '';\n",
              "          dataTable['output_type'] = 'display_data';\n",
              "          await google.colab.output.renderOutput(dataTable, element);\n",
              "          const docLink = document.createElement('div');\n",
              "          docLink.innerHTML = docLinkHtml;\n",
              "          element.appendChild(docLink);\n",
              "        }\n",
              "      </script>\n",
              "    </div>\n",
              "  </div>\n",
              "  "
            ],
            "text/plain": [
              "   MarketID MarketSize  LocationID  AgeOfStore  Promotion  week  \\\n",
              "0         1     Medium           1           4          3     1   \n",
              "1         1     Medium           1           4          3     2   \n",
              "2         1     Medium           1           4          3     3   \n",
              "\n",
              "   SalesInThousands market-promotion  \n",
              "0             33.73         Medium-3  \n",
              "1             35.67         Medium-3  \n",
              "2             29.03         Medium-3  "
            ]
          },
          "metadata": {},
          "execution_count": 55
        }
      ]
    },
    {
      "cell_type": "code",
      "source": [
        "large1 = df.loc[(df['market-promotion']=='Large-1'), 'SalesInThousands']\n",
        "large2 = df.loc[(df['market-promotion']=='Large-2'), 'SalesInThousands']\n",
        "large3 = df.loc[(df['market-promotion']=='Large-3'), 'SalesInThousands']\n",
        "\n",
        "medium1 = df.loc[(df['market-promotion']=='Medium-1'), 'SalesInThousands']\n",
        "medium2 = df.loc[(df['market-promotion']=='Medium-2'), 'SalesInThousands']\n",
        "medium3 = df.loc[(df['market-promotion']=='Medium-3'), 'SalesInThousands']\n",
        "\n",
        "small1 = df.loc[(df['market-promotion']=='Small-1'), 'SalesInThousands']\n",
        "small2 = df.loc[(df['market-promotion']=='Small-2'), 'SalesInThousands']\n",
        "small3 = df.loc[(df['market-promotion']=='Small-3'), 'SalesInThousands']\n"
      ],
      "metadata": {
        "id": "csSsyFV804S0"
      },
      "execution_count": 56,
      "outputs": []
    },
    {
      "cell_type": "code",
      "source": [
        "stats.f_oneway(small1, small2, small3)  "
      ],
      "metadata": {
        "colab": {
          "base_uri": "https://localhost:8080/"
        },
        "id": "vEP3W2M-08xN",
        "outputId": "75eaef06-dd43-4cca-b270-f9be20cf1cc2"
      },
      "execution_count": 57,
      "outputs": [
        {
          "output_type": "execute_result",
          "data": {
            "text/plain": [
              "F_onewayResult(statistic=16.57648112557373, pvalue=2.115939995841426e-06)"
            ]
          },
          "metadata": {},
          "execution_count": 57
        }
      ]
    },
    {
      "cell_type": "code",
      "source": [
        "small = df.loc[df['MarketSize'] == 'Small', :]\n",
        "\n",
        "tukey_small = pairwise_tukeyhsd(endog=small['SalesInThousands'],  \n",
        "                          groups=small['Promotion'],   \n",
        "                          alpha=0.05)  \n",
        "\n",
        "tukey_small.plot_simultaneous()    \n",
        "plt.title(\"Multiple Comparisons Between All Promotion in Small Market \")\n",
        "plt.xlabel(\"Sales In Thousands\")\n",
        "plt.ylabel(\"Promotion\")\n",
        "# plt.vlines(x=49.57,ymin=-0.5,ymax=4.5, color=\"red\")\n",
        "\n",
        "tukey_small.summary()"
      ],
      "metadata": {
        "colab": {
          "base_uri": "https://localhost:8080/",
          "height": 515
        },
        "id": "q_d_AmJL0_R8",
        "outputId": "6dfee1fb-cd56-464f-db7c-fd3b1e83b32b"
      },
      "execution_count": 58,
      "outputs": [
        {
          "output_type": "execute_result",
          "data": {
            "text/html": [
              "<table class=\"simpletable\">\n",
              "<caption>Multiple Comparison of Means - Tukey HSD, FWER=0.05</caption>\n",
              "<tr>\n",
              "  <th>group1</th> <th>group2</th> <th>meandiff</th> <th>p-adj</th>   <th>lower</th>   <th>upper</th>  <th>reject</th>\n",
              "</tr>\n",
              "<tr>\n",
              "     <td>1</td>      <td>2</td>    <td>-9.3519</td> <td>0.001</td> <td>-13.6829</td> <td>-5.0208</td>  <td>True</td> \n",
              "</tr>\n",
              "<tr>\n",
              "     <td>1</td>      <td>3</td>    <td>-0.6483</td>  <td>0.9</td>   <td>-4.5579</td> <td>3.2612</td>   <td>False</td>\n",
              "</tr>\n",
              "<tr>\n",
              "     <td>2</td>      <td>3</td>    <td>8.7035</td>  <td>0.001</td>   <td>4.536</td>  <td>12.8711</td>  <td>True</td> \n",
              "</tr>\n",
              "</table>"
            ],
            "text/plain": [
              "<class 'statsmodels.iolib.table.SimpleTable'>"
            ]
          },
          "metadata": {},
          "execution_count": 58
        },
        {
          "output_type": "display_data",
          "data": {
            "image/png": "[encoded data removed]",
            "text/plain": [
              "<Figure size 720x432 with 1 Axes>"
            ]
          },
          "metadata": {}
        }
      ]
    },
    {
      "cell_type": "code",
      "source": [
        "stats.f_oneway(medium1, medium2, medium3)  "
      ],
      "metadata": {
        "colab": {
          "base_uri": "https://localhost:8080/"
        },
        "id": "Hyo1HAis1DnJ",
        "outputId": "2465f3f2-8481-4525-ca70-e2a9c6f8f167"
      },
      "execution_count": 59,
      "outputs": [
        {
          "output_type": "execute_result",
          "data": {
            "text/plain": [
              "F_onewayResult(statistic=29.68813375084531, pvalue=1.5197404971604578e-12)"
            ]
          },
          "metadata": {},
          "execution_count": 59
        }
      ]
    },
    {
      "cell_type": "code",
      "source": [
        "medium = df.loc[df['MarketSize'] == 'Medium', :]\n",
        "tukey_medium = pairwise_tukeyhsd(endog=medium['SalesInThousands'],  \n",
        "                          groups=medium['Promotion'],   \n",
        "                          alpha=0.05)  \n",
        "\n",
        "tukey_medium.plot_simultaneous()    \n",
        "plt.title(\"Multiple Comparisons Between All Promotion in Large Market \")\n",
        "plt.xlabel(\"Sales In Thousands\")\n",
        "plt.ylabel(\"Promotion\")\n",
        "# plt.vlines(x=49.57,ymin=-0.5,ymax=4.5, color=\"red\")\n",
        "\n",
        "tukey_medium.summary()  "
      ],
      "metadata": {
        "colab": {
          "base_uri": "https://localhost:8080/",
          "height": 515
        },
        "id": "12h9jXY01GeR",
        "outputId": "3d258a5d-10c8-4d74-e188-9f4e29ab80bc"
      },
      "execution_count": 60,
      "outputs": [
        {
          "output_type": "execute_result",
          "data": {
            "text/html": [
              "<table class=\"simpletable\">\n",
              "<caption>Multiple Comparison of Means - Tukey HSD, FWER=0.05</caption>\n",
              "<tr>\n",
              "  <th>group1</th> <th>group2</th> <th>meandiff</th>  <th>p-adj</th>   <th>lower</th>   <th>upper</th>  <th>reject</th>\n",
              "</tr>\n",
              "<tr>\n",
              "     <td>1</td>      <td>2</td>    <td>-8.5583</td>  <td>0.001</td> <td>-11.3108</td> <td>-5.8057</td>  <td>True</td> \n",
              "</tr>\n",
              "<tr>\n",
              "     <td>1</td>      <td>3</td>    <td>-2.2037</td> <td>0.1356</td>  <td>-4.9113</td> <td>0.5038</td>   <td>False</td>\n",
              "</tr>\n",
              "<tr>\n",
              "     <td>2</td>      <td>3</td>    <td>6.3545</td>   <td>0.001</td>  <td>3.7306</td>  <td>8.9785</td>   <td>True</td> \n",
              "</tr>\n",
              "</table>"
            ],
            "text/plain": [
              "<class 'statsmodels.iolib.table.SimpleTable'>"
            ]
          },
          "metadata": {},
          "execution_count": 60
        },
        {
          "output_type": "display_data",
          "data": {
            "image/png": "[encoded data removed]",
            "text/plain": [
              "<Figure size 720x432 with 1 Axes>"
            ]
          },
          "metadata": {}
        }
      ]
    },
    {
      "cell_type": "code",
      "source": [
        "stats.f_oneway(large1, large2, large3)  "
      ],
      "metadata": {
        "colab": {
          "base_uri": "https://localhost:8080/"
        },
        "id": "v_P2SIQd1JE_",
        "outputId": "555721cd-2c13-4a21-9955-158cbcae70bb"
      },
      "execution_count": 61,
      "outputs": [
        {
          "output_type": "execute_result",
          "data": {
            "text/plain": [
              "F_onewayResult(statistic=21.44511115677835, pvalue=5.261567483455427e-09)"
            ]
          },
          "metadata": {},
          "execution_count": 61
        }
      ]
    },
    {
      "cell_type": "code",
      "source": [
        "large = df.loc[df['MarketSize'] == 'Large', :]\n",
        "\n",
        "tukey_large = pairwise_tukeyhsd(endog=large['SalesInThousands'],  \n",
        "                          groups=large['Promotion'],   \n",
        "                          alpha=0.05)  \n",
        "\n",
        "tukey_large.plot_simultaneous()    \n",
        "plt.title(\"Multiple Comparisons Between All Promotion in Medium Market \")\n",
        "plt.xlabel(\"Sales In Thousands\")\n",
        "plt.ylabel(\"Promotion\")\n",
        "# plt.vlines(x=49.57,ymin=-0.5,ymax=4.5, color=\"red\")\n",
        "\n",
        "tukey_large.summary() "
      ],
      "metadata": {
        "colab": {
          "base_uri": "https://localhost:8080/",
          "height": 515
        },
        "id": "K68WiaKQ1L94",
        "outputId": "63d30dc2-4014-4303-8e6f-4042e8e93f27"
      },
      "execution_count": 62,
      "outputs": [
        {
          "output_type": "execute_result",
          "data": {
            "text/html": [
              "<table class=\"simpletable\">\n",
              "<caption>Multiple Comparison of Means - Tukey HSD, FWER=0.05</caption>\n",
              "<tr>\n",
              "  <th>group1</th> <th>group2</th> <th>meandiff</th>  <th>p-adj</th>   <th>lower</th>   <th>upper</th>  <th>reject</th>\n",
              "</tr>\n",
              "<tr>\n",
              "     <td>1</td>      <td>2</td>   <td>-14.9139</td>  <td>0.001</td> <td>-21.5284</td> <td>-8.2993</td>  <td>True</td> \n",
              "</tr>\n",
              "<tr>\n",
              "     <td>1</td>      <td>3</td>    <td>1.9681</td>  <td>0.7701</td>  <td>-5.1424</td> <td>9.0785</td>   <td>False</td>\n",
              "</tr>\n",
              "<tr>\n",
              "     <td>2</td>      <td>3</td>    <td>16.8819</td>  <td>0.001</td>  <td>9.9797</td>  <td>23.7842</td>  <td>True</td> \n",
              "</tr>\n",
              "</table>"
            ],
            "text/plain": [
              "<class 'statsmodels.iolib.table.SimpleTable'>"
            ]
          },
          "metadata": {},
          "execution_count": 62
        },
        {
          "output_type": "display_data",
          "data": {
            "image/png": "[encoded data removed]",
            "text/plain": [
              "<Figure size 720x432 with 1 Axes>"
            ]
          },
          "metadata": {}
        }
      ]
    },
    {
      "cell_type": "code",
      "source": [
        "jovian.commit()"
      ],
      "metadata": {
        "colab": {
          "base_uri": "https://localhost:8080/",
          "height": 87
        },
        "id": "NunHxds11PMQ",
        "outputId": "af7ac9d5-7da0-4cd8-9ecb-3037d54c807e"
      },
      "execution_count": 64,
      "outputs": [
        {
          "output_type": "stream",
          "name": "stdout",
          "text": [
            "[jovian] Detected Colab notebook...\u001b[0m\n",
            "[jovian] Uploading colab notebook to Jovian...\u001b[0m\n",
            "Committed successfully! https://jovian.ai/programeralebrije/a-bfoodmarketingtest\n"
          ]
        },
        {
          "output_type": "execute_result",
          "data": {
            "application/vnd.google.colaboratory.intrinsic+json": {
              "type": "string"
            },
            "text/plain": [
              "'https://jovian.ai/programeralebrije/a-bfoodmarketingtest'"
            ]
          },
          "metadata": {},
          "execution_count": 64
        }
      ]
    },
    {
      "cell_type": "code",
      "source": [
        ""
      ],
      "metadata": {
        "id": "5pDf4RMM1hG7"
      },
      "execution_count": null,
      "outputs": []
    }
  ],
  "metadata": {
    "kernelspec": {
      "display_name": "Python 3 (ipykernel)",
      "language": "python",
      "name": "python3"
    },
    "language_info": {
      "codemirror_mode": {
        "name": "ipython",
        "version": 3
      },
      "file_extension": ".py",
      "mimetype": "text/x-python",
      "name": "python",
      "nbconvert_exporter": "python",
      "pygments_lexer": "ipython3",
      "version": "3.9.6"
    },
    "colab": {
      "name": "a-bfoodmarketingtest.ipynb",
      "provenance": [],
      "collapsed_sections": []
    }
  },
  "nbformat": 4,
  "nbformat_minor": 0
}